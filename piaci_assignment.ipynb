{
 "cells": [
  {
   "cell_type": "code",
   "execution_count": 6,
   "metadata": {},
   "outputs": [
    {
     "name": "stdout",
     "output_type": "stream",
     "text": [
      "Enter Name: nauman khaldi\n",
      "Enter Quarter: 1st\n",
      "Enter Batch: 3rd\n",
      "Enter City: islamabad\n",
      "Enter University: bahria university\n",
      "\n",
      "Name: NAUMAN KHALDI,\n",
      "Quater: 1st,\n",
      "Batch: 3rd,\n",
      "City: Islamabad,\n",
      "University: Bahria University\n",
      "\n"
     ]
    }
   ],
   "source": [
    "name=input(\"Enter Name: \")\n",
    "quater=input(\"Enter Quarter: \")\n",
    "batch=input(\"Enter Batch: \")\n",
    "city=input(\"Enter City: \")\n",
    "uni=input(\"Enter University: \")\n",
    "#print(name.upper())\n",
    "msg=\"\"\"\n",
    "Name: {},\n",
    "Quater: {},\n",
    "Batch: {},\n",
    "City: {},\n",
    "University: {}\n",
    "\"\"\"\n",
    "message=msg.format(name.upper(),quater,batch,city.title(),uni.title())\n",
    "print(message)"
   ]
  },
  {
   "cell_type": "code",
   "execution_count": 3,
   "metadata": {},
   "outputs": [
    {
     "name": "stdout",
     "output_type": "stream",
     "text": [
      "NAUMAN KHALID\n"
     ]
    }
   ],
   "source": [
    "name='Nauman khalid'\n",
    "print(name.upper())"
   ]
  },
  {
   "cell_type": "code",
   "execution_count": 4,
   "metadata": {},
   "outputs": [
    {
     "name": "stdout",
     "output_type": "stream",
     "text": [
      "False\n"
     ]
    }
   ],
   "source": [
    "name='nauman khalid'\n",
    "print(name.isalpha())"
   ]
  },
  {
   "cell_type": "code",
   "execution_count": 5,
   "metadata": {},
   "outputs": [
    {
     "name": "stdout",
     "output_type": "stream",
     "text": [
      "nauman khalid\n"
     ]
    }
   ],
   "source": [
    "name='NAUMAN KHALID'\n",
    "print(name.lower())"
   ]
  },
  {
   "cell_type": "code",
   "execution_count": 13,
   "metadata": {},
   "outputs": [
    {
     "name": "stdout",
     "output_type": "stream",
     "text": [
      "13\n"
     ]
    }
   ],
   "source": [
    "name='Nauman Khalid'\n",
    "print(len(name))"
   ]
  },
  {
   "cell_type": "code",
   "execution_count": null,
   "metadata": {},
   "outputs": [],
   "source": []
  }
 ],
 "metadata": {
  "kernelspec": {
   "display_name": "Python 3",
   "language": "python",
   "name": "python3"
  },
  "language_info": {
   "codemirror_mode": {
    "name": "ipython",
    "version": 3
   },
   "file_extension": ".py",
   "mimetype": "text/x-python",
   "name": "python",
   "nbconvert_exporter": "python",
   "pygments_lexer": "ipython3",
   "version": "3.7.3"
  }
 },
 "nbformat": 4,
 "nbformat_minor": 2
}
